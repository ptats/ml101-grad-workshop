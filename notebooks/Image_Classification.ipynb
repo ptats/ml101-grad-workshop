{
 "cells": [
  {
   "cell_type": "markdown",
   "metadata": {
    "colab_type": "text",
    "id": "view-in-github"
   },
   "source": [
    "<a href=\"https://colab.research.google.com/github/ptats/ml101-grad-workshop/blob/master/notebooks/Image_Classification.ipynb\" target=\"_parent\"><img src=\"https://colab.research.google.com/assets/colab-badge.svg\" alt=\"Open In Colab\"/></a>"
   ]
  },
  {
   "cell_type": "markdown",
   "metadata": {
    "colab_type": "text",
    "id": "HPH7i7kgBTzx"
   },
   "source": [
    "# **Create your own image classifier - including the dataset**\n",
    "\n",
    "by: Paula Tattam. An extraction of Fastai [Lesson 1](https://https://github.com/fastai/course-v3/blob/master/nbs/dl1/lesson1-pets.ipynb) and [Lesson 2](https://github.com/fastai/course-v3/blob/master/nbs/dl1/lesson2-download.ipynb)\n",
    "\n",
    "In this workshop you will get to create your own image classification dataset using google images. You will then build and train your own image classifier using the [fastai V1 library](https://www.fast.ai/2018/10/02/fastai-ai/). fastai is a python machine learning library built on top of the popular [PyTorch v1.0](https://engineering.fb.com/ai-research/facebook-accelerates-ai-development-with-new-partners-and-production-capabilities-for-pytorch-1-0/) machine learning framework.\n",
    "\n",
    "Fastai is a library that allows you to rapidly build and train your own machine learning models utilising transfer learning from a range of current state of the art models."
   ]
  },
  {
   "cell_type": "code",
   "execution_count": null,
   "metadata": {
    "colab": {
     "base_uri": "https://localhost:8080/",
     "height": 52
    },
    "colab_type": "code",
    "id": "VD7iKhyE3w7b",
    "outputId": "4e81b461-54f1-4a27-ff1e-d415bcc9dfba"
   },
   "outputs": [],
   "source": [
    "# run once\n",
    "!curl -s https://course.fast.ai/setup/colab | bash"
   ]
  },
  {
   "cell_type": "code",
   "execution_count": null,
   "metadata": {
    "colab": {
     "base_uri": "https://localhost:8080/",
     "height": 125
    },
    "colab_type": "code",
    "id": "_jyrXj3r_uU3",
    "outputId": "208aed2a-1c0d-45f9-dfdf-c13bd292e07f"
   },
   "outputs": [],
   "source": [
    "from google.colab import drive\n",
    "drive.mount('/content/gdrive', force_remount=True)\n",
    "root_dir = \"/content/gdrive/My\\ Drive/\""
   ]
  },
  {
   "cell_type": "code",
   "execution_count": null,
   "metadata": {
    "colab": {},
    "colab_type": "code",
    "id": "7XmuR2eI6I1X"
   },
   "outputs": [],
   "source": [
    "from fastai.vision import *"
   ]
  },
  {
   "cell_type": "markdown",
   "metadata": {
    "colab_type": "text",
    "id": "4QPgSzTa7yIe"
   },
   "source": [
    "# **Step 1: Pick a classification task**\n",
    "For step 1 make up an image classification task. It can be any topic of your choice but the images will need to be available through [google images.](https://images.google.com/?gws_rd=ssl) For example:\n",
    "\n",
    "*   Disney character classifier\n",
    "*   Hotdogs or legs\n",
    "*   Big cat classifier (tigers, lions, cheetahs, etc...)\n",
    "\n",
    "Please try keep it PG and don't pick too many different classes as you will need to repeat the below step for each class.\n",
    "\n",
    "Google image search allows you to exclude certain words in a search, combine searchs and a number of other operations.\n",
    "\n",
    "For example, to search dog but exlcude wolves, use the `-` operator:\n",
    "\n",
    "`dog -wolves -wolf`\n",
    "\n",
    "See more options [here](https://support.google.com/websearch/answer/2466433?visit_id=637175902163553047-3698874010&p=adv_operators&hl=en&rd=1).\n",
    "\n",
    "\n",
    "\n",
    "\n"
   ]
  },
  {
   "cell_type": "markdown",
   "metadata": {
    "colab_type": "text",
    "id": "7JrZ9ihmw1sJ"
   },
   "source": [
    "# **Step 2: Download URLs**\n",
    "\n",
    "You will need to download each image URL to a file. This can be done by using a small snippet of JavaScript. Open the javascript console in either chrome or firefox as follows:\n",
    "\n",
    "* Chrome: `ctrl+shift+j` (macOS: `Cmd+Opt+j`)\n",
    "* Firefox: `ctrl+shit+k` (macOS: `Cmd+Opt+k`)\n",
    "\n",
    "This will open up a window where you will paste the below code snippet. Before you paste the code, scroll down in your search results window a few times to load images. Only the displayed search image urls will be copied.\n",
    "\n",
    "```javascript\n",
    "urls=Array.from(document.querySelectorAll('.rg_i')).map(el=> el.hasAttribute('data-src')?el.getAttribute('data-src'):el.getAttribute('data-iurl'));\n",
    "window.open('data:text/csv;charset=utf-8,' + escape(urls.join('\\n')));\n",
    "```\n",
    "\n",
    "Repeat this step for each classification category that you have chosen. Once the file is downloaded, rename as per the following convention:\n",
    "\n",
    "`urls_<label>.csv`\n",
    "\n",
    "For example, if you are building a disney classifier you would name the files as follows:\n",
    "\n",
    "`urls_mickey.csv, urls_minnie.csv etc...`"
   ]
  },
  {
   "cell_type": "markdown",
   "metadata": {
    "colab_type": "text",
    "id": "VrD0avvKAOXR"
   },
   "source": [
    "# **Step 3: Create directories and upload files**\n",
    "\n",
    "Choose an appropriate name for your directory and create a list of your class labels. Edit the below cells as noted and run.\n",
    "\n"
   ]
  },
  {
   "cell_type": "code",
   "execution_count": null,
   "metadata": {
    "colab": {},
    "colab_type": "code",
    "id": "mjtvpxGZOSs2"
   },
   "outputs": [],
   "source": [
    "# UPDATE ME: add your labels as per the label used for the csv file\n",
    "labels = [\"zoro\", \"sanji\", \"nami\", \"brook\", \"robin\", \"chopper\", \"frankie\", \"luffy\", \"usopp\"]"
   ]
  },
  {
   "cell_type": "code",
   "execution_count": null,
   "metadata": {
    "colab": {},
    "colab_type": "code",
    "id": "3D85mgiLOkey"
   },
   "outputs": [],
   "source": [
    "# UPDATE ME: name as per your classifcation task\n",
    "name = \"one_piece_crew\""
   ]
  },
  {
   "cell_type": "code",
   "execution_count": null,
   "metadata": {
    "colab": {},
    "colab_type": "code",
    "id": "AoeWJNFO7S-x"
   },
   "outputs": [],
   "source": [
    "for label in labels:\n",
    "  path = Path(f'data/{name}') \n",
    "  dest = path/label\n",
    "  dest.mkdir(parents=True, exist_ok=True)"
   ]
  },
  {
   "cell_type": "code",
   "execution_count": null,
   "metadata": {
    "colab": {
     "base_uri": "https://localhost:8080/",
     "height": 334
    },
    "colab_type": "code",
    "id": "eFr11DzyPPyU",
    "outputId": "aa13c47e-d50b-4e9a-d976-66d591d1b79e"
   },
   "outputs": [],
   "source": [
    "path.ls()"
   ]
  },
  {
   "cell_type": "markdown",
   "metadata": {
    "colab_type": "text",
    "id": "-zrQsMudAMZh"
   },
   "source": [
    "Lastly, we upload the csv files. Open the side menu, press 'Upload' and select your files. Don't forget to move them into the newly created directory above. \n",
    "\n",
    "![Upload Images](https://github.com/ptats/ml101-grad-workshop/blob/master/images/Notebook_img1_LI.jpg)"
   ]
  },
  {
   "cell_type": "markdown",
   "metadata": {
    "colab_type": "text",
    "id": "uVEv4PKrSm1q"
   },
   "source": [
    "# **Step 4: Download images**\n",
    "\n",
    "Next you will need to download the images for each label. Luckily, fast.ai have a function specifically designed for this. As long as you followed the naming convention above for the csv file, this will block of code should just work.\n",
    "\n",
    "In this example, we set the image donwload limit to 200."
   ]
  },
  {
   "cell_type": "code",
   "execution_count": null,
   "metadata": {
    "colab": {
     "base_uri": "https://localhost:8080/",
     "height": 1000
    },
    "colab_type": "code",
    "id": "8p9MPRGOmaj-",
    "outputId": "41a08e62-8529-4069-a59f-792b4cf61e86"
   },
   "outputs": [],
   "source": [
    "for label in labels:\n",
    "  filename = f\"urls_{label}.csv\"\n",
    "  dest = path/label\n",
    "  download_images(path/filename, dest, max_pics=200)"
   ]
  },
  {
   "cell_type": "markdown",
   "metadata": {
    "colab_type": "text",
    "id": "e51xdY48UZ7y"
   },
   "source": [
    "Next, you will remove any images that cannot be opened. The following block of code removes any images that cannot be opened."
   ]
  },
  {
   "cell_type": "code",
   "execution_count": null,
   "metadata": {
    "colab": {
     "base_uri": "https://localhost:8080/",
     "height": 175
    },
    "colab_type": "code",
    "id": "cEly3PyAoR7c",
    "outputId": "7109cd29-c81f-4c4f-8e12-bdaec9a4e131"
   },
   "outputs": [],
   "source": [
    "for label in labels:\n",
    "  print(label)\n",
    "  verify_images(path/label, delete=True, max_size=500)"
   ]
  },
  {
   "cell_type": "markdown",
   "metadata": {
    "colab_type": "text",
    "id": "YAhdXpx4UhTt"
   },
   "source": [
    "# **Step 5: Data View**\n",
    "\n",
    "In this section you will create a `DataBunch`, an object that is used for model training in the fast.ai library. The databunch is unique in that as the images are loaded, all the required pre-processing is completed as well. This includes:\n",
    "\n",
    "*   resizing\n",
    "*   pixel normalisation\n",
    "*   flipping, rotation, zoom\n",
    "*   contrast changes\n",
    "*   symmetric warping\n",
    "\n",
    "Some of the default image transformations may not make sense depending on the application. For example, we would not flip an image of a cat vertically but for satellite imagery this would make sense.\n",
    "\n",
    "Once you create your databunch, you can inspect a batch of the data that has been uploaded and do a sanity check."
   ]
  },
  {
   "cell_type": "code",
   "execution_count": null,
   "metadata": {
    "colab": {},
    "colab_type": "code",
    "id": "yK-dK5kypmzi"
   },
   "outputs": [],
   "source": [
    "data = ImageDataBunch.from_folder(path, train='.', valid_pct=0.2, ds_tfms=get_transforms(), size=224, num_workers=4).normalize(imagenet_stats)"
   ]
  },
  {
   "cell_type": "code",
   "execution_count": null,
   "metadata": {
    "colab": {
     "base_uri": "https://localhost:8080/",
     "height": 228
    },
    "colab_type": "code",
    "id": "ijxd5TWmqIBo",
    "outputId": "cdba5c49-f4df-4074-d3cc-2392884bcbca"
   },
   "outputs": [],
   "source": [
    "data.classes, data.c, len(data.train_ds), len(data.valid_ds)"
   ]
  },
  {
   "cell_type": "code",
   "execution_count": null,
   "metadata": {
    "colab": {
     "base_uri": "https://localhost:8080/",
     "height": 441
    },
    "colab_type": "code",
    "id": "vg1KvbzzqQBA",
    "outputId": "5814148d-4354-48d1-d777-7d1988c00a6d"
   },
   "outputs": [],
   "source": [
    "data.show_batch(rows=4, figsize=(7,6))"
   ]
  },
  {
   "cell_type": "markdown",
   "metadata": {
    "colab_type": "text",
    "id": "3tEZFxPGVoeu"
   },
   "source": [
    "# **Step 6: Train Model**\n",
    "\n",
    "With the data loaded and ready, you can now create your deep learning model. For this example, you will use a pre-trained machine learning model, a type of convolutional neural network called ResNet34. Don't worry if you don't know what this means. For now, all you need to know is that this model is a type of neural network that will take the images as input and output a probability for each label that you have created. You will train this model for 4 epochs. An epoch is one iteration of the complete dataset."
   ]
  },
  {
   "cell_type": "code",
   "execution_count": null,
   "metadata": {
    "colab": {},
    "colab_type": "code",
    "id": "mSedyXchxNS1"
   },
   "outputs": [],
   "source": [
    "learn = cnn_learner(data, models.resnet34, metrics=error_rate)"
   ]
  },
  {
   "cell_type": "code",
   "execution_count": null,
   "metadata": {
    "colab": {
     "base_uri": "https://localhost:8080/",
     "height": 1000
    },
    "colab_type": "code",
    "id": "znInOtyrxTMg",
    "outputId": "748ad0d0-c085-486c-e51b-3f6541caa51f"
   },
   "outputs": [],
   "source": [
    "learn.model"
   ]
  },
  {
   "cell_type": "code",
   "execution_count": null,
   "metadata": {
    "colab": {
     "base_uri": "https://localhost:8080/",
     "height": 166
    },
    "colab_type": "code",
    "id": "wR8OVOMYq3QW",
    "outputId": "beb0f0de-2078-4293-cdd9-851da588a169"
   },
   "outputs": [],
   "source": [
    "learn.fit_one_cycle(4)"
   ]
  },
  {
   "cell_type": "code",
   "execution_count": null,
   "metadata": {
    "colab": {},
    "colab_type": "code",
    "id": "QjRwEh1Eq54H"
   },
   "outputs": [],
   "source": [
    "learn.save('stage-1')"
   ]
  },
  {
   "cell_type": "markdown",
   "metadata": {
    "colab_type": "text",
    "id": "TQMRQ14cyZcr"
   },
   "source": [
    "# **Step 7: Fine tuning and learning rates**\n",
    "\n",
    "Once your model is working as expected, you can now train some more as well as find the best learning rate to use. The learning is a hyper parameter that you vary to help the model learn. "
   ]
  },
  {
   "cell_type": "code",
   "execution_count": null,
   "metadata": {
    "colab": {},
    "colab_type": "code",
    "id": "XqmYUCZ8yo6G"
   },
   "outputs": [],
   "source": [
    "learn.unfreeze()"
   ]
  },
  {
   "cell_type": "code",
   "execution_count": null,
   "metadata": {
    "colab": {
     "base_uri": "https://localhost:8080/",
     "height": 230
    },
    "colab_type": "code",
    "id": "9AKfsJOzumXW",
    "outputId": "f86574c5-cbf1-485a-af8a-6e504752199f"
   },
   "outputs": [],
   "source": [
    "learn.lr_find(start_lr=1e-7, end_lr=1)"
   ]
  },
  {
   "cell_type": "code",
   "execution_count": null,
   "metadata": {
    "colab": {
     "base_uri": "https://localhost:8080/",
     "height": 279
    },
    "colab_type": "code",
    "id": "L4ylKeoTvOn3",
    "outputId": "e3cd02c1-4f50-4641-8047-bd1f9c38aee1"
   },
   "outputs": [],
   "source": [
    "learn.recorder.plot()"
   ]
  },
  {
   "cell_type": "code",
   "execution_count": null,
   "metadata": {
    "colab": {
     "base_uri": "https://localhost:8080/",
     "height": 106
    },
    "colab_type": "code",
    "id": "UyOrGk9Gundq",
    "outputId": "67148f09-3ff2-4b83-cbb1-1851f888726b"
   },
   "outputs": [],
   "source": [
    "# Update the max_lr values based on your plot above\n",
    "learn.fit_one_cycle(2, max_lr=slice(1e-6, 1e-4))"
   ]
  },
  {
   "cell_type": "code",
   "execution_count": null,
   "metadata": {
    "colab": {},
    "colab_type": "code",
    "id": "xdS-3e_J59ll"
   },
   "outputs": [],
   "source": [
    "learn.save('stage-2')"
   ]
  },
  {
   "cell_type": "markdown",
   "metadata": {
    "colab_type": "text",
    "id": "XxJVct1twgM4"
   },
   "source": [
    "# **Step 7: Inspecting the Results**\n",
    "\n",
    "Next you will inspect the results of your model. Here you will get to see:\n",
    "\n",
    "*   Which categories the model confused with one another the most\n",
    "*   Whether the misclassifications were reasonable or not\n",
    "\n",
    "And lastly, you can view the confusion matrix to understand the distribution of errors the model makes.\n",
    "\n"
   ]
  },
  {
   "cell_type": "code",
   "execution_count": null,
   "metadata": {
    "colab": {
     "base_uri": "https://localhost:8080/",
     "height": 34
    },
    "colab_type": "code",
    "id": "aJ9WKi33xdVJ",
    "outputId": "485ac07b-1aae-4c7d-dece-1c960d201674"
   },
   "outputs": [],
   "source": [
    "interp = ClassificationInterpretation.from_learner(learn)\n",
    "losses, idxs = interp.top_losses()\n",
    "len(data.valid_ds)==len(losses)==len(idxs)"
   ]
  },
  {
   "cell_type": "code",
   "execution_count": null,
   "metadata": {
    "colab": {
     "base_uri": "https://localhost:8080/",
     "height": 708
    },
    "colab_type": "code",
    "id": "edu6t1FoxqLc",
    "outputId": "26fd7c01-1194-43ed-e149-1374c287c4d4"
   },
   "outputs": [],
   "source": [
    "interp.plot_top_losses(25, figsize=(15,11))"
   ]
  },
  {
   "cell_type": "code",
   "execution_count": null,
   "metadata": {
    "colab": {
     "base_uri": "https://localhost:8080/",
     "height": 311
    },
    "colab_type": "code",
    "id": "P-LFn6zWx8Sb",
    "outputId": "cfa09fbf-aa76-43c8-e091-208573048c8f"
   },
   "outputs": [],
   "source": [
    "interp.plot_confusion_matrix()"
   ]
  },
  {
   "cell_type": "code",
   "execution_count": null,
   "metadata": {
    "colab": {
     "base_uri": "https://localhost:8080/",
     "height": 457
    },
    "colab_type": "code",
    "id": "dseJzhrUyC9u",
    "outputId": "1f2ee205-8a5f-4c0d-97d3-86112487c7fc"
   },
   "outputs": [],
   "source": [
    "interp.most_confused(min_val=2)"
   ]
  },
  {
   "cell_type": "markdown",
   "metadata": {
    "colab_type": "text",
    "id": "9UViQsQyq9d5"
   },
   "source": [
    "# **Step 9: Data clean up**\n",
    "\n",
    "Some of the top losses are not due to our model performing badly. Instead, they are due to incorrect images in our training data. fast.ai has a `ImageCleaner` widget that makes cleaning this kind of thing up super easy.\n",
    "\n",
    "Unfortunately, this widget does not work with jupyter lab or google collab. To run the following lines of code you need to run this notebook locally. You can download a copy of this notebook from google collab or clone the github repo. Make sure you complete the 'nice to have' prerequisites defined in the github readme.\n",
    "\n",
    "Once you have the notebook downloaded locally:\n",
    "\n",
    "* run the 'from fastai.vision import *' cell\n",
    "* Repeat Steps 3 & 4 above\n",
    "* Download the saved model export and save in the 'models' directory\n",
    "\n",
    "Once the above steps are complete, you can run the below cells. You will:\n",
    "\n",
    "* view images with the highest losses and delete or re-label\n",
    "* find images that are potential duplicates in the dataset"
   ]
  },
  {
   "cell_type": "code",
   "execution_count": null,
   "metadata": {
    "colab": {},
    "colab_type": "code",
    "id": "6qm9LR8q5BU7"
   },
   "outputs": [],
   "source": [
    "from fastai.widgets import *"
   ]
  },
  {
   "cell_type": "code",
   "execution_count": null,
   "metadata": {
    "colab": {},
    "colab_type": "code",
    "id": "OW7DeNon5DPB"
   },
   "outputs": [],
   "source": [
    "db = (ImageList.from_folder(path)\n",
    "      .split_none()\n",
    "      .label_from_folder()\n",
    "      .transform(get_transforms(), size=224)\n",
    "      .databunch())"
   ]
  },
  {
   "cell_type": "code",
   "execution_count": null,
   "metadata": {
    "colab": {
     "base_uri": "https://localhost:8080/",
     "height": 1000
    },
    "colab_type": "code",
    "id": "tVuGA8wu5not",
    "outputId": "a423c69f-1abf-4d1a-c48c-626dd2fca3f7"
   },
   "outputs": [],
   "source": [
    "learn_cln = cnn_learner(db, models.resnet34, metrics=error_rate)\n",
    "learn_cln.load('stage-1')"
   ]
  },
  {
   "cell_type": "code",
   "execution_count": null,
   "metadata": {
    "colab": {
     "base_uri": "https://localhost:8080/",
     "height": 17
    },
    "colab_type": "code",
    "id": "awoa9PSS5u8X",
    "outputId": "cdc63d57-1bb0-46a4-b6a4-6890b47ea58a"
   },
   "outputs": [],
   "source": [
    "ds, idx = DatasetFormatter().from_toplosses(learn_cln)"
   ]
  },
  {
   "cell_type": "code",
   "execution_count": null,
   "metadata": {
    "colab": {},
    "colab_type": "code",
    "id": "QXxB8fzC39S7"
   },
   "outputs": [],
   "source": [
    "ImageCleaner(ds, idx, path)"
   ]
  },
  {
   "cell_type": "markdown",
   "metadata": {},
   "source": [
    "When you are satisfied with your cleaning or reach the end of the available data, you can now move onto finding potential duplicates. A `cleaned.csv` file will have been created for you from the above step and you will need to use this file for the next step."
   ]
  },
  {
   "cell_type": "markdown",
   "metadata": {},
   "source": [
    "Using pandas, we can preview the contents of the newly created file to see what has been created."
   ]
  },
  {
   "cell_type": "code",
   "execution_count": null,
   "metadata": {},
   "outputs": [],
   "source": [
    "import pandas as pd"
   ]
  },
  {
   "cell_type": "code",
   "execution_count": null,
   "metadata": {},
   "outputs": [],
   "source": [
    "df = pd.read_csv('data/one_piece_crew/cleaned.csv')"
   ]
  },
  {
   "cell_type": "code",
   "execution_count": null,
   "metadata": {},
   "outputs": [],
   "source": [
    "df.head()"
   ]
  },
  {
   "cell_type": "markdown",
   "metadata": {},
   "source": [
    "Now we can load the new csv file and use this to find duplicate images."
   ]
  },
  {
   "cell_type": "code",
   "execution_count": null,
   "metadata": {},
   "outputs": [],
   "source": [
    "db = (ImageList.from_csv(path, 'cleaned.csv', folder='.')\n",
    "       .split_none()\n",
    "       .label_from_df()\n",
    "       .transform(get_transforms(), size=224)\n",
    "       .databunch()\n",
    ")"
   ]
  },
  {
   "cell_type": "markdown",
   "metadata": {},
   "source": [
    "This next cell might take some time to run as we need to run the images through the model and use the outputs from the last layer to calculate the similarities."
   ]
  },
  {
   "cell_type": "code",
   "execution_count": null,
   "metadata": {},
   "outputs": [],
   "source": [
    "learn_cln = cnn_learner(db, models.resnet34, metrics=error_rate)\n",
    "\n",
    "learn_cln.load('stage-1');"
   ]
  },
  {
   "cell_type": "code",
   "execution_count": null,
   "metadata": {},
   "outputs": [],
   "source": [
    "ds, idxs = DatasetFormatter().from_similars(learn_cln, pool=None)"
   ]
  },
  {
   "cell_type": "code",
   "execution_count": null,
   "metadata": {},
   "outputs": [],
   "source": [
    "ImageCleaner(ds, idxs, path, duplicates=True)"
   ]
  },
  {
   "cell_type": "markdown",
   "metadata": {},
   "source": [
    "After this, you would go back and train a new model on the cleaned data to see if you can get some performance improvements."
   ]
  }
 ],
 "metadata": {
  "accelerator": "GPU",
  "colab": {
   "authorship_tag": "ABX9TyOJJAOOnIt3L7ayIdEmrfv8",
   "collapsed_sections": [],
   "include_colab_link": true,
   "mount_file_id": "1gf1-ns7iSGZHM9mDU2UCzMotgdtrtNet",
   "name": "Image_Classification.ipynb",
   "provenance": [],
   "toc_visible": true
  },
  "kernelspec": {
   "display_name": "Python 3",
   "language": "python",
   "name": "python3"
  },
  "language_info": {
   "codemirror_mode": {
    "name": "ipython",
    "version": 3
   },
   "file_extension": ".py",
   "mimetype": "text/x-python",
   "name": "python",
   "nbconvert_exporter": "python",
   "pygments_lexer": "ipython3",
   "version": "3.7.3"
  }
 },
 "nbformat": 4,
 "nbformat_minor": 1
}
